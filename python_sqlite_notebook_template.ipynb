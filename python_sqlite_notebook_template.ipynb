{
  "nbformat": 4,
  "nbformat_minor": 0,
  "metadata": {
    "colab": {
      "name": "python-sqlite-notebook-template.ipynb",
      "provenance": [],
      "toc_visible": true,
      "authorship_tag": "ABX9TyPth7EsZz0fiux4K48AFO4w",
      "include_colab_link": true
    },
    "kernelspec": {
      "name": "python3",
      "display_name": "Python 3"
    },
    "language_info": {
      "name": "python"
    }
  },
  "cells": [
    {
      "cell_type": "markdown",
      "metadata": {
        "id": "view-in-github",
        "colab_type": "text"
      },
      "source": [
        "<a href=\"https://colab.research.google.com/github/kwaldenphd/sqlite-to-python/blob/main/python_sqlite_notebook_template.ipynb\" target=\"_parent\"><img src=\"https://colab.research.google.com/assets/colab-badge.svg\" alt=\"Open In Colab\"/></a>"
      ]
    },
    {
      "cell_type": "markdown",
      "source": [
        "# From SQLite into Python\n",
        "\n",
        "Student name: **Enter your name here** (double click to edit)\n",
        "\n",
        "Net ID: **Enter your NetID here** (double click to edit)"
      ],
      "metadata": {
        "id": "6RGvka06V5bz"
      }
    },
    {
      "cell_type": "markdown",
      "source": [
        "## Lab Notebook Questions"
      ],
      "metadata": {
        "id": "YMLv_23-ZQ56"
      }
    },
    {
      "cell_type": "markdown",
      "source": [
        "### **Q1: Describe the basic steps of how to establish a connection with a SQLite database from within Python.**"
      ],
      "metadata": {
        "id": "TU8VdOenZTLj"
      }
    },
    {
      "cell_type": "markdown",
      "source": [
        "**Answer Q1:** Your answer here (double click to edit)\n",
        "\n"
      ],
      "metadata": {
        "id": "ZRftVHWIWMrC"
      }
    },
    {
      "cell_type": "code",
      "source": [
        "# space for Q1 code (if needed, double click to edit)"
      ],
      "metadata": {
        "id": "bPz7Og6agS7C"
      },
      "execution_count": null,
      "outputs": []
    },
    {
      "cell_type": "markdown",
      "source": [
        "### **Q2: Take at least 3 of the queries you wrote for the Queries and Joins lab and modify them to run within a Python environment. Include code + comments. What changes did you have to make to the query syntax? What challenges did you encounter, and how did you solve them?**"
      ],
      "metadata": {
        "id": "HV3bt5MIWSi0"
      }
    },
    {
      "cell_type": "markdown",
      "source": [
        "**Answer Q2:** Your answer here (double click to edit)\n"
      ],
      "metadata": {
        "id": "RVyNsiziWVDc"
      }
    },
    {
      "cell_type": "code",
      "source": [
        "# code for first Q2 query (double click to edit)"
      ],
      "metadata": {
        "id": "d5Ox8k4igPOk"
      },
      "execution_count": null,
      "outputs": []
    },
    {
      "cell_type": "code",
      "source": [
        "# code for second Q2 query (double click to edit)"
      ],
      "metadata": {
        "id": "CfvGXeFJ2lc8"
      },
      "execution_count": null,
      "outputs": []
    },
    {
      "cell_type": "code",
      "source": [
        "# code for third Q2 query (double click to edit)"
      ],
      "metadata": {
        "id": "a9ZzbzTN2lpa"
      },
      "execution_count": null,
      "outputs": []
    },
    {
      "cell_type": "markdown",
      "source": [
        "### **Q3: How is Python storing the output for the last query from step 24 (variable, data structure, etc)? What could we do with this output?**"
      ],
      "metadata": {
        "id": "gJtDv7WcWas7"
      }
    },
    {
      "cell_type": "markdown",
      "source": [
        "**Answer Q3:** Your answer here (double click to edit)\n"
      ],
      "metadata": {
        "id": "RqxLqdKK2aAj"
      }
    },
    {
      "cell_type": "code",
      "source": [
        "# space for Q3 code (if needed, double click to edit)"
      ],
      "metadata": {
        "id": "vkwdZRSj2o_K"
      },
      "execution_count": null,
      "outputs": []
    }
  ]
}