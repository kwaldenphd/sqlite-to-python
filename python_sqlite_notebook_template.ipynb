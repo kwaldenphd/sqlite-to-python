{
  "nbformat": 4,
  "nbformat_minor": 0,
  "metadata": {
    "colab": {
      "name": "python-sqlite-notebook-template.ipynb",
      "provenance": [],
      "toc_visible": true,
      "authorship_tag": "ABX9TyO0wWvPOfNCz9gA/wwaKNjG",
      "include_colab_link": true
    },
    "kernelspec": {
      "name": "python3",
      "display_name": "Python 3"
    },
    "language_info": {
      "name": "python"
    }
  },
  "cells": [
    {
      "cell_type": "markdown",
      "metadata": {
        "id": "view-in-github",
        "colab_type": "text"
      },
      "source": [
        "<a href=\"https://colab.research.google.com/github/kwaldenphd/sqlite-to-python/blob/main/python_sqlite_notebook_template.ipynb\" target=\"_parent\"><img src=\"https://colab.research.google.com/assets/colab-badge.svg\" alt=\"Open In Colab\"/></a>"
      ]
    },
    {
      "cell_type": "markdown",
      "source": [
        "# From SQLite into Python\n",
        "\n",
        "Student name: **Enter your name here** (double click to edit)\n",
        "\n",
        "Net ID: **Enter your NetID here** (double click to edit)"
      ],
      "metadata": {
        "id": "6RGvka06V5bz"
      }
    },
    {
      "cell_type": "markdown",
      "source": [
        "## Lab Notebook Questions"
      ],
      "metadata": {
        "id": "YMLv_23-ZQ56"
      }
    },
    {
      "cell_type": "markdown",
      "source": [
        "### **Q1: Describe the basic steps of how to establish a connection with a SQLite database from within Python.**"
      ],
      "metadata": {
        "id": "TU8VdOenZTLj"
      }
    },
    {
      "cell_type": "markdown",
      "source": [
        "**Answer Q1:** Your answer here (double click to edit)\n",
        "\n"
      ],
      "metadata": {
        "id": "ZRftVHWIWMrC"
      }
    },
    {
      "cell_type": "code",
      "source": [
        "# space for Q1 code (if needed, double click to edit)"
      ],
      "metadata": {
        "id": "bPz7Og6agS7C"
      },
      "execution_count": null,
      "outputs": []
    },
    {
      "cell_type": "markdown",
      "source": [
        "### **Q2: How is Python storing the output for the last query from step 24 (variable, data structure, etc)? What could we do with this output?**"
      ],
      "metadata": {
        "id": "gJtDv7WcWas7"
      }
    },
    {
      "cell_type": "markdown",
      "source": [
        "**Answer Q2:** Your answer here (double click to edit)\n"
      ],
      "metadata": {
        "id": "RqxLqdKK2aAj"
      }
    },
    {
      "cell_type": "code",
      "source": [
        "# space for Q2 code (if needed, double click to edit)"
      ],
      "metadata": {
        "id": "vkwdZRSj2o_K"
      },
      "execution_count": null,
      "outputs": []
    },
    {
      "cell_type": "markdown",
      "source": [
        "### <strong>Q3: Take at least 3 of the queries you wrote for the Queries and Joins lab and modify them to run within a Python environment. Include code + comments.\n",
        "- For this question, your program needs to:\n",
        "  * Establish a connection to the database\n",
        "    * `sqlite3.connect()`\n",
        "  * Create the cursor object\n",
        "    * `connection.cursor()`\n",
        "  * Include modified query syntax\n",
        "    * `cursor.execute()`\n",
        "  * Get query return and store to variable\n",
        "    * `cursor.fetchall()`\n",
        "  * Close connection\n",
        "    * `cursor.close()`</strong>"
      ],
      "metadata": {
        "id": "HV3bt5MIWSi0"
      }
    },
    {
      "cell_type": "markdown",
      "source": [
        "**Answer Q2:** Your answer here (double click to edit)\n"
      ],
      "metadata": {
        "id": "RVyNsiziWVDc"
      }
    },
    {
      "cell_type": "code",
      "source": [
        "# establish database connection\n",
        "\n",
        "# create cursor object"
      ],
      "metadata": {
        "id": "vgHd5Vyxseva"
      },
      "execution_count": null,
      "outputs": []
    },
    {
      "cell_type": "code",
      "source": [
        "# code for first Q3 query (double click to edit)"
      ],
      "metadata": {
        "id": "d5Ox8k4igPOk"
      },
      "execution_count": null,
      "outputs": []
    },
    {
      "cell_type": "code",
      "source": [
        "# code for second Q3 query (double click to edit)"
      ],
      "metadata": {
        "id": "CfvGXeFJ2lc8"
      },
      "execution_count": null,
      "outputs": []
    },
    {
      "cell_type": "code",
      "source": [
        "# code for third Q3 query (double click to edit)"
      ],
      "metadata": {
        "id": "a9ZzbzTN2lpa"
      },
      "execution_count": null,
      "outputs": []
    },
    {
      "cell_type": "code",
      "source": [
        "# close connection"
      ],
      "metadata": {
        "id": "Oudlbl_hsjx9"
      },
      "execution_count": null,
      "outputs": []
    },
    {
      "cell_type": "markdown",
      "source": [
        "### <strong>Q4: For at least one of the Q3 queries, create a Pandas `DataFrame` from the query results and write to a `.csv` file. Include code + comments.\n",
        "- For this question, your program needs to:\n",
        "  * Create the dataframe\n",
        "    * `pd.DataFrame()`\n",
        "  * Save as CSV \n",
        "    * `pd.to_csv()`</strong>"
      ],
      "metadata": {
        "id": "WXb5AucrslwY"
      }
    },
    {
      "cell_type": "markdown",
      "source": [
        "**Answer Q4:** Your answer here (double click to edit)\n"
      ],
      "metadata": {
        "id": "OQ6wYBrzssus"
      }
    },
    {
      "cell_type": "code",
      "source": [
        "# space for Q4 code (double click to edit)"
      ],
      "metadata": {
        "id": "65831FJws-C8"
      },
      "execution_count": null,
      "outputs": []
    },
    {
      "cell_type": "markdown",
      "source": [
        "### **Q5: What changes did you have to make to the query syntax to be able to run SQL queries in Python? What challenges did you encounter in this workflow? How did you solve them?**"
      ],
      "metadata": {
        "id": "6N82opZ4tHE4"
      }
    },
    {
      "cell_type": "markdown",
      "source": [
        "**Answer Q5:** Your answer here (double click to edit)\n"
      ],
      "metadata": {
        "id": "L8_btSFstJRF"
      }
    },
    {
      "cell_type": "code",
      "source": [
        "# space for Q5 code (double click to edit)"
      ],
      "metadata": {
        "id": "v_Gf2SCdtcaT"
      },
      "execution_count": null,
      "outputs": []
    }
  ]
}