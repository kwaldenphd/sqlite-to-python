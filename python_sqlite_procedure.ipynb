{
  "cells": [
    {
      "cell_type": "markdown",
      "metadata": {
        "id": "view-in-github",
        "colab_type": "text"
      },
      "source": [
        "<a href=\"https://colab.research.google.com/github/kwaldenphd/sqlite-to-python/blob/main/python_sqlite_procedure.ipynb\" target=\"_parent\"><img src=\"https://colab.research.google.com/assets/colab-badge.svg\" alt=\"Open In Colab\"/></a>"
      ]
    },
    {
      "cell_type": "markdown",
      "source": [
        "# From SQLite into Python\n",
        "\n",
        "<a href=\"http://creativecommons.org/licenses/by-nc/4.0/\" rel=\"license\"><img style=\"border-width: 0;\" src=\"https://i.creativecommons.org/l/by-nc/4.0/88x31.png\" alt=\"Creative Commons License\" /></a>\n",
        "This tutorial is licensed under a <a href=\"http://creativecommons.org/licenses/by-nc/4.0/\" rel=\"license\">Creative Commons Attribution-NonCommercial 4.0 International License</a>."
      ],
      "metadata": {
        "id": "eqJB1BFz0pFT"
      }
    },
    {
      "cell_type": "markdown",
      "source": [
        "## Lab Goals\n",
        "\n",
        "This lab covers how to connect to an SQLite database from Python using `sqlite3`. It also covers how to modify SQL query syntax when working in the Python programming environment.\n",
        "\n",
        "By the end of this lab, students will be able to:\n",
        "- Understand the core components of `sqlite3`\n",
        "- Connecting to a SQLite database from Python\n",
        "- Modify SQL queries for the Python programming environment\n",
        "- Understand the basics of data loading, storage, memory, and program performance"
      ],
      "metadata": {
        "id": "oWsxGhzj0zf9"
      }
    },
    {
      "cell_type": "markdown",
      "source": [
        "## Acknowledgements\n",
        "\n",
        "The author consulted the following resources when writing this tutorial.\n",
        "- Chapter 6, \"Data Loading, Storate, and File Formats\" section 6.4 \"Interacting With Databases\" (pp. 191-193) from Wes McKinney's [*Python for Data Analysis: Data Wrangling With pandas, Numpy, and IPython*](https://www.oreilly.com/library/view/python-for-data/9781491957653/) (O'Reilly, 2017).\n",
        "- David Muller, \"[How To Use the `sqlite3` Module in Python 3](https://www.digitalocean.com/community/tutorials/how-to-use-the-sqlite3-module-in-python-3)\" *Digital Ocean* (2 June 2020)\n",
        "- Data Carpentries tutorial, \"[Data Analysis and Visualization in Python for Ecologists](https://datacarpentry.org/python-ecology-lesson/09-working-with-sql/index.html)\"\n",
        "- Chapter 15 \"Using Databases and SQL\" (pp. 185-208) from Charles Severance's [*Python for Everybody: Exploring Data in Python 3*](https://www.py4e.com/) (2016).\n",
        "- Nik Piepenbreier, \"[Python SQLite Tutorial - The Ultimate Guide](https://towardsdatascience.com/python-sqlite-tutorial-the-ultimate-guide-fdcb8d7a4f30)\", *Towards Data Science* (1 April 2020).\n",
        "\n",
        "Peer review and editing was provided by Spring 2021 graduate teaching assistant [Subhadyuti Sahoo](https://github.com/SDSAHOO703)."
      ],
      "metadata": {
        "id": "lekCRsik0025"
      }
    },
    {
      "cell_type": "markdown",
      "source": [
        "# Lab Notebook Template\n",
        "\n",
        "[Link to lab notebook template (Jupyter Notebook)](https://colab.research.google.com/drive/1LFkXDBg0IUQ-Rpa_-ZVvAx1agKZ-2Hft?usp=sharing)\n"
      ],
      "metadata": {
        "id": "HOgBTdJf03uz"
      }
    },
    {
      "cell_type": "markdown",
      "source": [
        "# Data\n",
        "\n",
        "In a previous lab, we created a relational database from three `.csv` files.\n",
        "- [`Player_Birthplaces.csv`](https://drive.google.com/file/d/1qthm3HSN5FaEFusC1_Zk-0qL0A6LIEB-/view?usp=sharing)\n",
        "- [`Team_Locations.csv`](https://drive.google.com/file/d/1fttQhzoAwYOJC-mB17RATaqD4mfUTIV_/view?usp=sharing)\n",
        "- [`Combined_Transactions.csv`](https://drive.google.com/file/d/17Z9C7snAMjARTQYoRXufwaO2j9ssl0g8/view?usp=sharing)\n",
        "\n",
        "Consult [that lab's procedure/documentation](https://github.com/kwaldenphd/data-models#getting-started-with-db-browser-for-sqlite) if you need to re-create this database.\n",
        "\n",
        "You will need this relational database file for this lab.\n",
        "\n",
        "If needed, you can download the relational database [from Google Drive](https://drive.google.com/file/d/1uQHOIeMdCZOyXsIdDgfimUE-63I33pIm/view?usp=sharing)."
      ],
      "metadata": {
        "id": "CB2DGiEq1QJ2"
      }
    },
    {
      "cell_type": "markdown",
      "source": [
        "# Overview\n",
        "\n",
        "1. In previous labs, we created a relational database with information about U.S. professional baseball players and teams.\n",
        "\n",
        "2. We also explored how SQL syntax can let us interact with a relational database.\n",
        "\n",
        "3. But imagine we want to work with a relational database from within Python.\n",
        "\n",
        "4. We could work in SQL using a combination of queries and joins to create a new table with specific fields we want to work with, then export that table as a `.csv` file and load it into Python.\n",
        "\n",
        "5. But we also have the option to interact with a SQL-based relational database from within Python, using a couple of key packages."
      ],
      "metadata": {
        "id": "BZkL2KZA1RWP"
      }
    },
    {
      "cell_type": "markdown",
      "source": [
        "# Establishing a Connection\n",
        "\n",
        "6. The `sqlite3` module \"provides a SQL interface\" from within Python ([`sqlite3` documentation](https://docs.python.org/3/library/sqlite3.html)).\n",
        "\n",
        "7. `sqlite3` lets us establish a connection with a SQL database from within Python and then we can interact with the database using modified SQL commands.\n",
        "\n",
        "8. The basic steps for `sqlite3`:\n",
        "- Install and import `sqlite3` module\n",
        "- Establish a `connection` with the database\n",
        "- Create a `cursor` object \n",
        "- Use the `execute()` method in combination with the `cursor` object to execute SQL queries\n",
        "- Close the connection using `close()` when done working with the database\n",
        "\n",
        "9. To express this programmatically in Python:"
      ],
      "metadata": {
        "id": "G9pxyu1G1S8a"
      }
    },
    {
      "cell_type": "code",
      "source": [
        "# import sqlite3 module\n",
        "import sqlite3\n",
        "\n",
        "# establish connection to database\n",
        "connection = sqlite3.connect(\"data.db\")\n",
        "\n",
        "# creates the cursor object\n",
        "cursor = connection.cursor()\n",
        "\n",
        "# closes the connection\n",
        "cursor.close()"
      ],
      "metadata": {
        "id": "hmVl0U3_1T-9"
      },
      "execution_count": null,
      "outputs": []
    },
    {
      "cell_type": "markdown",
      "source": [
        "<blockquote>Q1: Describe the basic steps of how to establish a connection with a SQLite database from within Python.</blockquote>\n",
        "\n",
        "# Modifying SQL Query Syntax\n",
        "\n",
        "10. Now we can use our `cursor` object to interact with the database using modified SQL syntax.\n",
        "\n",
        "11. The basic template for `sqlite3` syntax:\n",
        "\n",
        "```Python\n",
        "cursor.execute(\"SQL QUERY/COMMANDS GO HERE\")\n",
        "```\n",
        "\n",
        "12. `cursor.execute()` followed by the SQL command (in quotation marks) lets us use SQL statements on our database from within Python.\n",
        "\n",
        "13. Check out the [`sqlite3` documentation](https://docs.python.org/3/library/sqlite3.html) to learn more about the module's functionality and syntax.\n",
        "\n",
        "14. For example, let's say we wanted to select the unique player ids from the `Player_Birthplaces` table in our database.\n",
        "\n",
        "15. Remember the original SQL syntax for this query:\n",
        "\n",
        "```SQL\n",
        "-- select unique values from table field\n",
        "SELECT DISTINCT player_ids\n",
        "FROM Player_Birthplaces;\n",
        "```\n",
        "\n",
        "16. The modified syntax for this query in Python using `sqlite3`:"
      ],
      "metadata": {
        "id": "vhDyhwz_1XD0"
      }
    },
    {
      "cell_type": "code",
      "source": [
        "# import sqlite3 module\n",
        "import sqlite3\n",
        "\n",
        "# establish connection to database\n",
        "connection = sqlite3.connect(\"data.db\")\n",
        "\n",
        "# creates the cursor object\n",
        "cursor = connection.cursor()\n",
        "\n",
        "# creates a new variable player ids \n",
        "player_ids = cursor.execute(\"SELECT DISTINCT id_person FROM Player_PoB\")\n",
        "\n",
        "# get the query return\n",
        "player_id_results = cursor.fetchall()\n",
        "\n",
        "# print the list of unique player ids now contained in the player_id_results variable\n",
        "print(player_id_results)"
      ],
      "metadata": {
        "id": "WBa1ZQW41bB6"
      },
      "execution_count": null,
      "outputs": []
    },
    {
      "cell_type": "markdown",
      "source": [
        "17. The `cursor.execute()` function runs the `SELECT DISTINCT` statement.\n",
        "\n",
        "18. The new `player_ids` variable contains the `player_id` column from the `Player_Birthplaces` table as a list in Python.\n",
        "\n",
        "19. Another example using the `WHERE` statement for filtering.\n",
        "\n",
        "20. The original SQL query:\n",
        "\n",
        "```SQL\n",
        "-- select all values from table where specific condition is met\n",
        "SELECT *\n",
        "FROM Player_Birthplaces\n",
        "WHERE country='DO';\n",
        "```\n",
        "\n",
        "21. This query returns all columns from the `Player_Birthplaces` table where data in the `country` field is equal to `DO`.\n",
        "\n",
        "22. The modified syntax for this query in Python using `sqlite3`:"
      ],
      "metadata": {
        "id": "neSBFUPe1chX"
      }
    },
    {
      "cell_type": "code",
      "source": [
        "# establish connection to database\n",
        "connection = sqlite3.connect(\"EoCII_Database_Lab.db\")\n",
        "\n",
        "# creates the cursor object\n",
        "cursor = connection.cursor()\n",
        "\n",
        "# creates a new variable for query results\n",
        "do_players = cursor.execute(\"SELECT * FROM Player_PoB WHERE country='DO'\")\n",
        "\n",
        "# get the query return\n",
        "player_country_results = cursor.fetchall()\n",
        "\n",
        "# print the new do_players variable\n",
        "print(player_country_results)\n",
        "\n",
        "# closes the connection\n",
        "cursor.close()"
      ],
      "metadata": {
        "id": "s7PD_z4E1dyO"
      },
      "execution_count": null,
      "outputs": []
    },
    {
      "cell_type": "markdown",
      "source": [
        "23. Let's say we wanted to just see a query result and not load it to a new varible.\n",
        "\n",
        "24. A modified version of the previous example:"
      ],
      "metadata": {
        "id": "lSX8aJOF1e9s"
      }
    },
    {
      "cell_type": "code",
      "source": [
        "# import sqlite3 module\n",
        "import sqlite3\n",
        "\n",
        "# establish connection to database\n",
        "connection = sqlite3.connect(\"EoCII_Database_Lab.db\")\n",
        "\n",
        "# creates the cursor object\n",
        "cursor = connection.cursor()\n",
        "\n",
        "# creates a new variable for query results\n",
        "cursor.execute(\"SELECT * FROM Player_PoB WHERE country='DO'\")\n",
        "\n",
        "# set a row count variable\n",
        "count = 0\n",
        "\n",
        "# for loop that prints row contents and reassigns count value\n",
        "for row in cursor:\n",
        "  print(row)\n",
        "  count = count + 1\n",
        "\n",
        "# print statement that takes final count value (i.e. the number of rows) and prints that total\n",
        "print(count, 'rows')\n",
        "\n",
        "# closes the connection\n",
        "cursor.close()"
      ],
      "metadata": {
        "id": "_sKdrl481gYQ"
      },
      "execution_count": null,
      "outputs": []
    },
    {
      "cell_type": "markdown",
      "source": [
        "25. In this example, the `for` loop iterates over the rows in the database and uses the `count` variable to track how many rows in the database meet the `WHERE` condition.\n",
        "\n",
        "<blockquote>Q2: How is Python storing the output for the last query from step 24 (variable, data structure, etc)? What could we do with this output?</blockquote>\n",
        "\n",
        "# Creating a Pandas `DataFrame`\n",
        "\n",
        "26. Step 21 in the lab procedure included sample code for a query that returns all columns from the `Player_Birthplaces` table where data in the `country` field is equal to `DO`.\n",
        "\n"
      ],
      "metadata": {
        "id": "tgET9SHd1iUn"
      }
    },
    {
      "cell_type": "code",
      "source": [
        "# establish connection to database\n",
        "connection = sqlite3.connect(\"data.db\")\n",
        "\n",
        "# creates the cursor object\n",
        "cursor = connection.cursor()\n",
        "\n",
        "# creates a new variable for query results\n",
        "do_players = cursor.execute(\"SELECT * FROM player_birthplaces WHERE country='DO'\")\n",
        "\n",
        "# get the query return\n",
        "player_country_results = cursor.fetchall()\n",
        "\n",
        "# print the new do_players variable\n",
        "print(player_country_results)\n",
        "\n",
        "# closes the connection\n",
        "cursor.close()"
      ],
      "metadata": {
        "id": "UgaB5GGAr6xD"
      },
      "execution_count": null,
      "outputs": []
    },
    {
      "cell_type": "markdown",
      "source": [
        "27.In this example, the query results are being stored to the `player_country_results` variable as a list with sublists or nested lists.\n",
        "\n",
        "28. We can use `pd.DataFrame` to create a Pandas `DataFrame` from that list with sublists."
      ],
      "metadata": {
        "id": "24cS1Hfdr8IV"
      }
    },
    {
      "cell_type": "code",
      "source": [
        "# import pandas\n",
        "import pandas as pd\n",
        "\n",
        "# establish connection to database\n",
        "connection = sqlite3.connect(\"data.db\")\n",
        "\n",
        "# creates the cursor object\n",
        "cursor = connection.cursor()\n",
        "\n",
        "# creates a new variable for query results\n",
        "do_players = cursor.execute(\"SELECT * FROM player_birthplaces WHERE country='DO'\")\n",
        "\n",
        "# get the query return\n",
        "player_country_results = cursor.fetchall()\n",
        "\n",
        "# closes the connection\n",
        "cursor.close()\n",
        "\n",
        "# create dataframe\n",
        "df = pd.DataFrame(player_country_results)\n",
        "\n",
        "# show df\n",
        "df"
      ],
      "metadata": {
        "id": "6VawQjUnr9xG"
      },
      "execution_count": null,
      "outputs": []
    },
    {
      "cell_type": "markdown",
      "source": [
        "29. From there, a single line of code will save the `DataFrame` as a `.csv` file.\n"
      ],
      "metadata": {
        "id": "T-ll8kwkr-_H"
      }
    },
    {
      "cell_type": "code",
      "source": [
        "# save to csv\n",
        "df.to_csv(\"output.csv\", index=False)"
      ],
      "metadata": {
        "id": "YEZQVHBasAN4"
      },
      "execution_count": null,
      "outputs": []
    },
    {
      "cell_type": "markdown",
      "source": [
        "# Additional Lab Notebook Questions\n",
        "\n",
        "Q3: Take at least 3 of the queries you wrote for the Queries and Joins lab and modify them to run within a Python environment. Include code + comments.\n",
        "- For this question, your program needs to:\n",
        "  * Establish a connection to the database\n",
        "    * `sqlite3.connect()`\n",
        "  * Create the cursor object\n",
        "    * `connection.cursor()`\n",
        "  * Include modified query syntax\n",
        "    * `cursor.execute()`\n",
        "  * Get query return and store to variable\n",
        "    * `cursor.fetchall()`\n",
        "  * Close connection\n",
        "    * `cursor.close()`\n",
        "\n",
        "Q4: For at least one of the Q3 queries, create a Pandas `DataFrame` from the query results and write to a `.csv` file. Include code + comments.\n",
        "- For this question, your program needs to:\n",
        "  * Create the dataframe\n",
        "    * `pd.DataFrame()`\n",
        "  * Save as CSV \n",
        "    * `pd.to_csv()`\n",
        "\n",
        "Q5: What changes did you have to make to the query syntax? What challenges did you encounter, and how did you solve them?"
      ],
      "metadata": {
        "id": "mpn62kUqsC78"
      }
    },
    {
      "cell_type": "markdown",
      "source": [
        "# Additional Considerations\n",
        "\n",
        "30. Why would we want to work with a relational database from within Python?\n",
        "\n",
        "31. The short answer is program performance and memory load.\n",
        "\n",
        "32. Storing your data in an SQLite database and loading query results into Python requires significantly less memory than storing all the database data in Python.\n",
        "\n",
        "33. Less stored data = lower memory needs = improved program performance.\n",
        "\n",
        "34. Interacting with a database from Python can also be a workflow consideration.\n",
        "\n",
        "35. Imagine your company has data stored in a relational database system (Oracle, AWS, Microsft Access, etc.) and there are specific aggregations or calculations that need to be performed on that data regularly (say, for quarterly or annual reports).\n",
        "\n",
        "36. Provided the underlying data structure remains largely consistent (this is  true for most proprietary/commercial database systems), you could write a program in Python to automatically generate those aggregations and calculations."
      ],
      "metadata": {
        "id": "RNTl_95Cr11O"
      }
    },
    {
      "cell_type": "markdown",
      "source": [
        "# Lab Notebook Questions\n",
        "\n",
        "Q1: Describe the basic steps of how to establish a connection with a SQLite database from within Python.\n",
        "\n",
        "Q3: How is Python storing the output for the last query from step 24 (variable, data structure, etc)? What could we do with this output?\n",
        "\n",
        "Q3: Take at least 3 of the queries you wrote for the Queries and Joins lab and modify them to run within a Python environment. Include code + comments.\n",
        "- For this question, your program needs to:\n",
        "  * Establish a connection to the database\n",
        "    * `sqlite3.connect()`\n",
        "  * Create the cursor object\n",
        "    * `connection.cursor()`\n",
        "  * Include modified query syntax\n",
        "    * `cursor.execute()`\n",
        "  * Get query return and store to variable\n",
        "    * `cursor.fetchall()`\n",
        "  * Close connection\n",
        "    * `cursor.close()`\n",
        "\n",
        "Q4: For at least one of the Q3 queries, create a Pandas `DataFrame` from the query results and write to a `.csv` file. Include code + comments.\n",
        "- For this question, your program needs to:\n",
        "  * Create the dataframe\n",
        "    * `pd.DataFrame()`\n",
        "  * Save as CSV \n",
        "    * `pd.to_csv()`\n",
        "\n",
        "Q5: What changes did you have to make to the query syntax? What challenges did you encounter, and how did you solve them?"
      ],
      "metadata": {
        "id": "y9mO_ZAh1jmU"
      }
    }
  ],
  "metadata": {
    "kernelspec": {
      "display_name": "Python 3",
      "language": "python",
      "name": "python3"
    },
    "language_info": {
      "codemirror_mode": {
        "name": "ipython",
        "version": 3
      },
      "file_extension": ".py",
      "mimetype": "text/x-python",
      "name": "python",
      "nbconvert_exporter": "python",
      "pygments_lexer": "ipython3",
      "version": "3.8.5"
    },
    "colab": {
      "name": "python-sqlite-procedure.ipynb",
      "provenance": [],
      "include_colab_link": true
    }
  },
  "nbformat": 4,
  "nbformat_minor": 0
}