{
 "cells": [
  {
   "cell_type": "markdown",
   "metadata": {},
   "source": [
    "# From SQLite into Python\n",
    "\n",
    "<a href=\"http://creativecommons.org/licenses/by-nc/4.0/\" rel=\"license\"><img style=\"border-width: 0;\" src=\"https://i.creativecommons.org/l/by-nc/4.0/88x31.png\" alt=\"Creative Commons License\" /></a>\n",
    "This tutorial is licensed under a <a href=\"http://creativecommons.org/licenses/by-nc/4.0/\" rel=\"license\">Creative Commons Attribution-NonCommercial 4.0 International License</a>.\n",
    "\n",
    "## Lab Goals\n",
    "\n",
    "This lab covers how to connect to an SQLite database from Python using `sqlite3`. It also covers how to modify SQL query syntax when working in the Python programming environment. \n",
    "\n",
    "## Acknowledgements\n",
    "\n",
    "The author consulted the following resources when writing this tutorial.\n",
    "- Chapter 6, \"Data Loading, Storate, and File Formats\" section 6.4 \"Interacting With Databases\" (pp. 191-193) from Wes McKinney's [*Python for Data Analysis: Data Wrangling With pandas, Numpy, and IPython*](https://www.oreilly.com/library/view/python-for-data/9781491957653/) (O'Reilly, 2017).\n",
    "- David Muller, \"[How To Use the `sqlite3` Module in Python 3](https://www.digitalocean.com/community/tutorials/how-to-use-the-sqlite3-module-in-python-3)\" *Digital Ocean* (2 June 2020)\n",
    "- Data Carpentries tutorial, \"[Data Analysis and Visualization in Python for Ecologists](https://datacarpentry.org/python-ecology-lesson/09-working-with-sql/index.html)\"\n",
    "- Chapter 15 \"Using Databases and SQL\" (pp. 185-208) from Charles Severance's [*Python for Everybody: Exploring Data in Python 3*](https://www.py4e.com/) (2016).\n",
    "- Nik Piepenbreier, \"[Python SQLite Tutorial - The Ultimate Guide](https://towardsdatascience.com/python-sqlite-tutorial-the-ultimate-guide-fdcb8d7a4f30)\", *Towards Data Science* (1 April 2020).\n",
    "\n",
    "# Table of Contents\n",
    "\n",
    "- [From SQLite into Python](#from-sqlite-into-python)\n",
    "  * [Establishing a Connection](#establishing-a-connection)\n",
    "  * [Modifying SQL Query Syntax](#modifying-sql-query-syntax)\n",
    "  * [Additional Considerations](#additional-considerations)\n",
    "- [Practice Problems](#practice-problems)\n",
    "- [Lab Notebook Questions](#lab-notebook-questions)\n",
    "\n",
    "# From SQLite into Python\n",
    "\n",
    "1. In SQLite lab, we created a relational database with information about U.S. professional baseball players and teams.\n",
    "\n",
    "2. We also explored how SQL syntax can let us interact with a relational database.\n",
    "\n",
    "4. But imagine we want to work with a relational database from within Python.\n",
    "\n",
    "5. We could work in SQL to create a new table that combines specific fields we want to work with, then export that table as a `.csv` file and load it into Python.\n",
    "\n",
    "5. But we also have the option to interact with a SQL-based relational database from within Python, using a couple of key packages.\n",
    "\n",
    "## Establishing a Connection\n",
    "\n",
    "6. The `sqlite3` module \"provides a SQL interface\" from within Python ([`sqlite3` documentation](https://docs.python.org/3/library/sqlite3.html)].\n",
    "\n",
    "7. `sqlite3` lets us establish a connection with a SQL database from within Python and then we can interact with the database using modified SQL commands.\n",
    "\n",
    "8. The basic steps for `sqlite3`:\n",
    "- Install and import `sqlite3` module\n",
    "- Establish a `connection` with the database\n",
    "- Create a `cursor` object \n",
    "- Use the `execute()` method in combination with the `cursor` object to execute SQL queries\n",
    "- Close the connection using `close()` when done working with the database\n",
    "\n",
    "9. To express this programmatically in Python:"
   ]
  },
  {
   "cell_type": "code",
   "execution_count": null,
   "metadata": {},
   "outputs": [],
   "source": [
    "# install sqlite3 module\n",
    "import sys\n",
    "!{sys.executable} -m pip install sqlite3"
   ]
  },
  {
   "cell_type": "code",
   "execution_count": 10,
   "metadata": {},
   "outputs": [],
   "source": [
    "# import sqlite3 module\n",
    "import sqlite3\n",
    "\n",
    "# establish connection to database\n",
    "connection = sqlite3.connect(\"EoCII_Database_Lab.db\")\n",
    "\n",
    "# creates the cursor object\n",
    "cursor = connection.cursor()\n",
    "\n",
    "# closes the connection\n",
    "cursor.close()"
   ]
  },
  {
   "cell_type": "markdown",
   "metadata": {},
   "source": [
    "10. Now we can use our `cursor` object to interact with the database using modified SQL syntax.\n",
    "\n",
    "11. The basic template for `sqlite3` syntax:"
   ]
  },
  {
   "cell_type": "raw",
   "metadata": {},
   "source": [
    "cursor.execute(\"SQL QUERY/COMMANDS GO HERE\")"
   ]
  },
  {
   "cell_type": "markdown",
   "metadata": {},
   "source": [
    "12. `cursor.execute()` followed by the SQL command (in quotation marks) lets us use SQL statements on our database from within Python.\n",
    "\n",
    "13. Check out the [`sqlite3` documentation](https://docs.python.org/3/library/sqlite3.html) to learn more about the module's functionality and syntax.\n",
    "\n",
    "14. For example, let's say we wanted to select the unique player ids from the `Player_Birthplaces` table in our database.\n",
    "\n",
    "15. Remember the original SQL syntax for this query:\n",
    "```SQL\n",
    "SELECT DISTINCT player_ids\n",
    "FROM player_birthplaces;\n",
    "```\n",
    "\n",
    "16. The modified syntax for this query in Python using `sqlite3`:"
   ]
  },
  {
   "cell_type": "code",
   "execution_count": null,
   "metadata": {},
   "outputs": [],
   "source": [
    "# import sqlite3 module\n",
    "import sqlite3\n",
    "\n",
    "# establish connection to database\n",
    "connection = sqlite3.connect(\"EoCII_Database_Lab.db\")\n",
    "\n",
    "# creates the cursor object\n",
    "cursor = connection.cursor()\n",
    "\n",
    "# creates a new variable player ids \n",
    "player_ids = cursor.execute(\"SELECT DISTINCT id_person FROM Player_PoB\")\n",
    "\n",
    "# get the query return\n",
    "player_id_results = cursor.fetchall()\n",
    "\n",
    "# print the list of unique player ids now contained in the player_id_results variable\n",
    "print(player_id_results)\n",
    "\n",
    "# closes the connection\n",
    "cursor.close()"
   ]
  },
  {
   "cell_type": "markdown",
   "metadata": {},
   "source": [
    "17. The `cursor.execute()` function runs the `SELECT DISTINCT` statement.\n",
    "\n",
    "18. The new `player_ids` variable contains the `player_id` column from the `player_birthplaces` table as a list in Python.\n",
    "\n",
    "19. Another example using the `WHERE` statement for filtering.\n",
    "\n",
    "20. The original SQL query:\n",
    "```SQL\n",
    "SELECT *\n",
    "FROM Player_Birthplaces\n",
    "WHERE country='DO';\n",
    "```\n",
    "\n",
    "21. This query returns all columns from the `Player_Birthplaces` table where data in the `country` field is equal to `DO`.\n",
    "\n",
    "22. The modified syntax for this query in Python using `sqlite3`:"
   ]
  },
  {
   "cell_type": "code",
   "execution_count": null,
   "metadata": {},
   "outputs": [],
   "source": [
    "# import sqlite3 module\n",
    "import sqlite3\n",
    "\n",
    "# establish connection to database\n",
    "connection = sqlite3.connect(\"EoCII_Database_Lab.db\")\n",
    "\n",
    "# creates the cursor object\n",
    "cursor = connection.cursor()\n",
    "\n",
    "# creates a new variable for query results\n",
    "do_players = cursor.execute(\"SELECT * FROM Player_PoB WHERE country='DO'\")\n",
    "\n",
    "# get the query return\n",
    "player_country_results = cursor.fetchall()\n",
    "\n",
    "# print the new do_players variable\n",
    "print(player_country_results)\n",
    "\n",
    "# closes the connection\n",
    "cursor.close()"
   ]
  },
  {
   "cell_type": "markdown",
   "metadata": {},
   "source": [
    "23. Let's say we wanted to just see a query result and not load it to a new varible.\n",
    "\n",
    "24. A modified version of the previous example:"
   ]
  },
  {
   "cell_type": "code",
   "execution_count": null,
   "metadata": {},
   "outputs": [],
   "source": [
    "# import sqlite3 module\n",
    "import sqlite3\n",
    "\n",
    "# establish connection to database\n",
    "connection = sqlite3.connect(\"EoCII_Database_Lab.db\")\n",
    "\n",
    "# creates the cursor object\n",
    "cursor = connection.cursor()\n",
    "\n",
    "# creates a new variable for query results\n",
    "cursor.execute(\"SELECT * FROM Player_PoB WHERE country='DO'\")\n",
    "\n",
    "# set a row count variable\n",
    "count = 0\n",
    "\n",
    "# for loop that prints row contents and reassigns count value\n",
    "for row in cursor:\n",
    "  print(row)\n",
    "  count = count + 1\n",
    "\n",
    "# print statement that takes final count value (i.e. the number of rows) and prints that total\n",
    "print(count, 'rows')\n",
    "\n",
    "# closes the connection\n",
    "cursor.close()"
   ]
  },
  {
   "cell_type": "markdown",
   "metadata": {},
   "source": [
    "25. In this example, the `for` loop iterates over the rows in the database and uses the `count` variable to track how many rows in the database meet the `WHERE` condition."
   ]
  },
  {
   "cell_type": "markdown",
   "metadata": {},
   "source": [
    "<blockquote>Q1: Describe the basic steps of how to establish a connection with a SQLite database from within Python.</blockquote>"
   ]
  },
  {
   "cell_type": "markdown",
   "metadata": {},
   "source": [
    "<blockquote>Q2: Take at least 3 of the queries you wrote for the Queries and Joins lab and modify them to run within a Python environment. Include code + comments. What changes did you have to make to the query syntax? Any challenges you encountered (and how did you solve them)?</blockquote>"
   ]
  },
  {
   "cell_type": "markdown",
   "metadata": {},
   "source": [
    "<blockquote>Q3: How is Python storing the output for the last query from step 24? What could we do with this output?</blockquote>"
   ]
  },
  {
   "cell_type": "markdown",
   "metadata": {},
   "source": [
    "### Additional Considerations\n",
    "\n",
    "26. Why would we want to work with a relational database from within Python?\n",
    "\n",
    "27. The short answer is program performance and memory load.\n",
    "\n",
    "28. Storing your data in an SQLite database and loading query results into Python requires significantly less memory than storing all the database data in Python.\n",
    "\n",
    "29. Less stored data = lower memory needs = improved program performance.\n",
    "\n",
    "30. Interacting with a database from Python can also be a workflow consideration.\n",
    "\n",
    "31. Imagine your company has data stored in a relational database system (Oracle, AWS, Microsft Access, etc.), and there are specific aggregations or calculations that need to be performed on that data regularly (say, for quarterly or annual reports).\n",
    "\n",
    "32. Provided the underlying data structure remains largely consistent (which in most proprietary database systems it will), you could write a program in Python to automatically generate those aggregations and calculations.\n",
    "\n",
    "# Practice Problems\n",
    "\n",
    "33. No practice problems for this lab. Spend this time working on a data model final project.\n",
    "\n",
    "# Lab Notebook Questions\n",
    "\n",
    "Q1: Describe the basic steps of how to establish a connection with a SQLite database from within Python.\n",
    "\n",
    "Q2: Take at least 3 of the queries you wrote for the Queries and Joins lab and modify them to run within a Python environment. Include code + comments. What changes did you have to make to the query syntax? Any challenges you encountered (and how did you solve them)?\n",
    "\n",
    "Q3: How is Python storing the output for the last query from step 24? What could we do with this output?"
   ]
  }
 ],
 "metadata": {
  "kernelspec": {
   "display_name": "Python 3",
   "language": "python",
   "name": "python3"
  },
  "language_info": {
   "codemirror_mode": {
    "name": "ipython",
    "version": 3
   },
   "file_extension": ".py",
   "mimetype": "text/x-python",
   "name": "python",
   "nbconvert_exporter": "python",
   "pygments_lexer": "ipython3",
   "version": "3.8.5"
  }
 },
 "nbformat": 4,
 "nbformat_minor": 4
}
